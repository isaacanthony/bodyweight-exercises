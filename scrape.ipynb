{
 "cells": [
  {
   "cell_type": "code",
   "execution_count": null,
   "metadata": {},
   "outputs": [],
   "source": [
    "import json\n",
    "from bs4 import BeautifulSoup\n",
    "import requests"
   ]
  },
  {
   "cell_type": "code",
   "execution_count": null,
   "metadata": {},
   "outputs": [],
   "source": [
    "results = []"
   ]
  },
  {
   "cell_type": "markdown",
   "metadata": {},
   "source": [
    "### Self.com"
   ]
  },
  {
   "cell_type": "code",
   "execution_count": null,
   "metadata": {},
   "outputs": [],
   "source": [
    "soup = BeautifulSoup(\n",
    "    requests.get(\"https://www.self.com/gallery/bodyweight-exercises-you-can-do-at-home\").text,\n",
    "    \"html.parser\",\n",
    ")"
   ]
  },
  {
   "cell_type": "code",
   "execution_count": null,
   "metadata": {},
   "outputs": [],
   "source": [
    "results += list(\n",
    "    map(\n",
    "        lambda figure: [figure.find(\"h2\").text, figure.find(\"img\")[\"src\"]],\n",
    "        soup.find_all(\"figure\", \"gallery-slide__content\"),\n",
    "    )\n",
    ")"
   ]
  },
  {
   "cell_type": "code",
   "execution_count": null,
   "metadata": {},
   "outputs": [],
   "source": [
    "del soup"
   ]
  },
  {
   "cell_type": "markdown",
   "metadata": {},
   "source": [
    "### KettleBellsWorkouts.com"
   ]
  },
  {
   "cell_type": "code",
   "execution_count": null,
   "metadata": {},
   "outputs": [],
   "source": [
    "soup = BeautifulSoup(\n",
    "    requests.get(\"https://kettlebellsworkouts.com/bodyweight-exercises\").text,\n",
    "    \"html.parser\",\n",
    ")"
   ]
  },
  {
   "cell_type": "code",
   "execution_count": null,
   "metadata": {},
   "outputs": [],
   "source": [
    "titles = list(\n",
    "    map(\n",
    "        lambda div: div.split(\"Bodyweight \")[1],\n",
    "        filter(\n",
    "            lambda title: \"Bodyweight\" in title,\n",
    "            map(lambda div: div.text, soup.find_all(\"h3\"))\n",
    "        )\n",
    "    )\n",
    ")"
   ]
  },
  {
   "cell_type": "code",
   "execution_count": null,
   "metadata": {},
   "outputs": [],
   "source": [
    "imgs = list(\n",
    "    filter(\n",
    "        lambda src: src.endswith(\".png\"),\n",
    "        map(\n",
    "            lambda div: div.find(\"img\")[\"src\"],\n",
    "            soup.find_all(\"figure\", \"wp-block-image\")\n",
    "        )\n",
    "    )\n",
    ")"
   ]
  },
  {
   "cell_type": "code",
   "execution_count": null,
   "metadata": {},
   "outputs": [],
   "source": [
    "assert len(titles) == len(imgs)"
   ]
  },
  {
   "cell_type": "code",
   "execution_count": null,
   "metadata": {},
   "outputs": [],
   "source": [
    "results += [[titles[i], imgs[i]] for i in range(len(titles))]"
   ]
  },
  {
   "cell_type": "code",
   "execution_count": null,
   "metadata": {},
   "outputs": [],
   "source": [
    "del soup, titles, imgs"
   ]
  },
  {
   "cell_type": "markdown",
   "metadata": {},
   "source": [
    "### TheLavenderLifestyle.com"
   ]
  },
  {
   "cell_type": "code",
   "execution_count": null,
   "metadata": {},
   "outputs": [],
   "source": [
    "for i in range(1, 14):\n",
    "    print(i)\n",
    "\n",
    "    soup = BeautifulSoup(\n",
    "        requests.get(f\"https://www.thelavenderlifestyle.com/w{i}tb-gifs\").text,\n",
    "        \"html.parser\",\n",
    "    )\n",
    "\n",
    "    results += list(\n",
    "        map(\n",
    "            lambda img: [img.get(\"alt\"), img.get(\"data-image\")],\n",
    "            soup.find(\"div\", \"sqs-gallery\").find_all(\"img\", \"thumb-image\")[1:],\n",
    "        )\n",
    "    )"
   ]
  },
  {
   "cell_type": "code",
   "execution_count": null,
   "metadata": {},
   "outputs": [],
   "source": [
    "del soup"
   ]
  },
  {
   "cell_type": "markdown",
   "metadata": {},
   "source": [
    "### Export"
   ]
  },
  {
   "cell_type": "code",
   "execution_count": null,
   "metadata": {},
   "outputs": [],
   "source": [
    "with open(\"exercises.js\", \"w\") as file:\n",
    "    file.write(\"const EXERCISES = \" + json.dumps(results).replace(\"],\", \"],\\n\") + \";\\n\")"
   ]
  },
  {
   "cell_type": "code",
   "execution_count": null,
   "metadata": {},
   "outputs": [],
   "source": []
  }
 ],
 "metadata": {
  "kernelspec": {
   "display_name": "Python 3",
   "language": "python",
   "name": "python3"
  },
  "language_info": {
   "codemirror_mode": {
    "name": "ipython",
    "version": 3
   },
   "file_extension": ".py",
   "mimetype": "text/x-python",
   "name": "python",
   "nbconvert_exporter": "python",
   "pygments_lexer": "ipython3",
   "version": "3.8.5"
  }
 },
 "nbformat": 4,
 "nbformat_minor": 4
}
